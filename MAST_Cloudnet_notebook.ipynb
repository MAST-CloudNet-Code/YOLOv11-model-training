{
  "nbformat": 4,
  "nbformat_minor": 0,
  "metadata": {
    "colab": {
      "provenance": [],
      "gpuType": "L4"
    },
    "kernelspec": {
      "name": "python3",
      "display_name": "Python 3"
    },
    "accelerator": "GPU"
  },
  "cells": [
    {
      "cell_type": "markdown",
      "source": [
        "# Initialization"
      ],
      "metadata": {
        "id": "6utTuW0HRa-_"
      }
    },
    {
      "cell_type": "markdown",
      "source": [
        "## Install Dependencies"
      ],
      "metadata": {
        "id": "ASSjERRWsFUx"
      }
    },
    {
      "cell_type": "code",
      "metadata": {
        "id": "wbvMlHd_QwMG",
        "collapsed": true
      },
      "source": [
        "%pip install ultralytics\n",
        "import ultralytics\n",
        "ultralytics.checks()"
      ],
      "execution_count": null,
      "outputs": []
    },
    {
      "cell_type": "markdown",
      "source": [
        "## Import Dataset from Google Drive"
      ],
      "metadata": {
        "id": "yICfN0DSstk6"
      }
    },
    {
      "cell_type": "code",
      "source": [
        "from google.colab import drive\n",
        "drive.mount('/content/drive')"
      ],
      "metadata": {
        "id": "fDB70H4HrWRk"
      },
      "execution_count": null,
      "outputs": []
    },
    {
      "cell_type": "code",
      "source": [
        "!unzip /content/drive/MyDrive/project_dir/dataset.zip -d /content/"
      ],
      "metadata": {
        "id": "Nn0E_KvGw-lV"
      },
      "execution_count": null,
      "outputs": []
    },
    {
      "cell_type": "markdown",
      "source": [
        "# Training"
      ],
      "metadata": {
        "id": "u1IC6CN3VK8E"
      }
    },
    {
      "cell_type": "code",
      "source": [
        "#@title Select YOLO11 logger {run: 'auto'}\n",
        "logger = 'TensorBoard' #@param ['Comet', 'TensorBoard']\n",
        "\n",
        "if logger == 'Comet':\n",
        "  %pip install -q comet_ml\n",
        "  import comet_ml; comet_ml.init()\n",
        "elif logger == 'TensorBoard':\n",
        "  %load_ext tensorboard\n",
        "  %tensorboard --logdir ."
      ],
      "metadata": {
        "id": "ktegpM42AooT",
        "cellView": "form"
      },
      "execution_count": null,
      "outputs": []
    },
    {
      "cell_type": "code",
      "metadata": {
        "id": "1NcFxRcFdJ_O",
        "collapsed": true
      },
      "source": [
        "# Train YOLO11n for 50 epochs on a base model\n",
        "!yolo train model=yolo11n.pt data='/content/dataset/data.yaml' epochs=50 imgsz=640 patience=100 batch=0.9 optimizer='Auto' save_period=10 resume=True"
      ],
      "execution_count": null,
      "outputs": []
    },
    {
      "cell_type": "code",
      "metadata": {
        "id": "X58w8JLpMnjH",
        "collapsed": true
      },
      "source": [
        "# Validate trained model\n",
        "!yolo val model='/train/weights/best.pt' data='/content/dataset/data.yaml' imgsz=640 conf=0.001  iou=0.7  split=test save_json  project='runs/detect' name='test_results' batch=16"
      ],
      "execution_count": null,
      "outputs": []
    },
    {
      "cell_type": "markdown",
      "source": [
        "# Detection"
      ],
      "metadata": {
        "id": "byinmrouVVhH"
      }
    },
    {
      "cell_type": "code",
      "source": [
        "# Run inference on images\n",
        "\n",
        "from ultralytics import YOLO\n",
        "\n",
        "# Replace with appropriate paths\n",
        "weights_path = '/train/weights/best.pt'\n",
        "folder_path = '/content/drive/MyDrive/project_dir/images/'\n",
        "\n",
        "\n",
        "# Load the YOLO model\n",
        "model = YOLO(weights_path)\n",
        "\n",
        "# Run inference on the folder with specified image size\n",
        "results = model.predict(source=folder_path, save=True, imgsz=640)\n"
      ],
      "metadata": {
        "id": "d-jQxGQhOpjD"
      },
      "execution_count": null,
      "outputs": []
    }
  ]
}